{
 "cells": [
  {
   "cell_type": "markdown",
   "metadata": {},
   "source": [
    "## 测试注意力向量计算"
   ]
  },
  {
   "cell_type": "code",
   "execution_count": 3,
   "metadata": {},
   "outputs": [
    {
     "name": "stderr",
     "output_type": "stream",
     "text": [
      "Using TensorFlow backend.\n"
     ]
    }
   ],
   "source": [
    "import tensorflow as tf\n",
    "import numpy as np\n",
    "import keras.backend as K"
   ]
  },
  {
   "cell_type": "code",
   "execution_count": 76,
   "metadata": {},
   "outputs": [],
   "source": [
    "def my_dot(x):\n",
    "    c = [tf.reduce_sum(tf.multiply(x[0][:, inx, :], x[1]), -1, keep_dims=True) for inx in range(3)]\n",
    "    return tf.concat(c, -1)"
   ]
  },
  {
   "cell_type": "code",
   "execution_count": 77,
   "metadata": {},
   "outputs": [],
   "source": [
    "def my_dot_v2(x, y):\n",
    "    \"\"\"注意力点乘函数，快速版本\"\"\"\n",
    "    res = K.batch_dot(tf.expand_dims(y, -1),x, (1, 2))\n",
    "    return K.reshape(res, [-1, 3])"
   ]
  },
  {
   "cell_type": "code",
   "execution_count": 4,
   "metadata": {},
   "outputs": [],
   "source": [
    "def att_dot(x):\n",
    "    \"\"\"注意力点乘函数\"\"\"\n",
    "    d_btf, q_bf = x\n",
    "    res = K.batch_dot(tf.expand_dims(y, -1),x, (1, 2))\n",
    "    return tf.reshape(res, [-1, 3])"
   ]
  },
  {
   "cell_type": "code",
   "execution_count": 12,
   "metadata": {},
   "outputs": [],
   "source": [
    "def new_att_dot(x):\n",
    "     d_btf, q_bf = x\n",
    "     res = tf.matmul(tf.expand_dims(q_bf, -1), d_btf, adjoint_a=True,adjoint_b=True)\n",
    "     return tf.reshape(res, [-1, 3])"
   ]
  },
  {
   "cell_type": "code",
   "execution_count": 5,
   "metadata": {},
   "outputs": [
    {
     "name": "stdout",
     "output_type": "stream",
     "text": [
      "[[[ 0  1  2  3]\n  [ 4  5  6  7]\n  [ 8  9 10 11]]\n\n [[12 13 14 15]\n  [16 17 18 19]\n  [20 21 22 23]]]\n--------------------\n(2, 3, 4)\n--------------------\n(2, 4)\n--------------------\n[[0 1 2 3]\n [4 5 6 7]]\n"
     ]
    }
   ],
   "source": [
    "a = tf.placeholder(tf.float32,shape=(None,3,4))\n",
    "b = tf.placeholder(tf.float32,shape=(None,4))\n",
    "true_a = np.arange(24).reshape(2,3,4)\n",
    "true_b = np.arange(8).reshape(2,4)\n",
    "print(true_a)\n",
    "print('-'*20)\n",
    "print(true_a.shape)\n",
    "print('-'*20)\n",
    "print(true_b.shape)\n",
    "print('-'*20)\n",
    "print(true_b)"
   ]
  },
  {
   "cell_type": "code",
   "execution_count": 14,
   "metadata": {},
   "outputs": [
    {
     "data": {
      "text/plain": [
       "TensorShape([Dimension(None), Dimension(3)])"
      ]
     },
     "execution_count": 14,
     "metadata": {},
     "output_type": "execute_result"
    }
   ],
   "source": [
    "d = att_dot([a,b])\n",
    "d.get_shape()\n",
    "e = new_att_dot([a,b])\n",
    "e.get_shape()"
   ]
  },
  {
   "cell_type": "code",
   "execution_count": 15,
   "metadata": {},
   "outputs": [
    {
     "name": "stdout",
     "output_type": "stream",
     "text": [
      "[[  14.   38.   62.]\n [ 302.  390.  478.]]\n--------------------------------------------------\n[[  14.   38.   62.]\n [ 302.  390.  478.]]\n"
     ]
    }
   ],
   "source": [
    "with tf.Session() as sess:\n",
    "    sess.run(tf.global_variables_initializer())\n",
    "    print(sess.run(d, {a: true_a, b: true_b}))\n",
    "    print(\"-\"*50)\n",
    "    print(sess.run(e, {a: true_a, b: true_b}))"
   ]
  },
  {
   "cell_type": "code",
   "execution_count": 80,
   "metadata": {},
   "outputs": [
    {
     "name": "stdout",
     "output_type": "stream",
     "text": [
      "(?, 4, 1)\n(?, 3, 4)\n"
     ]
    }
   ],
   "source": [
    "x = tf.expand_dims(b,-1)\n",
    "print(x.get_shape())\n",
    "y = a\n",
    "print(y.get_shape())"
   ]
  },
  {
   "cell_type": "code",
   "execution_count": 81,
   "metadata": {},
   "outputs": [
    {
     "data": {
      "text/plain": [
       "TensorShape([Dimension(None), Dimension(3)])"
      ]
     },
     "execution_count": 81,
     "metadata": {},
     "output_type": "execute_result"
    }
   ],
   "source": [
    "res = K.batch_dot(x,y,(1,2))\n",
    "res = tf.reshape(res,[-1,3])\n",
    "res.get_shape()"
   ]
  },
  {
   "cell_type": "code",
   "execution_count": 82,
   "metadata": {},
   "outputs": [
    {
     "data": {
      "text/plain": [
       "TensorShape([Dimension(None), Dimension(3)])"
      ]
     },
     "execution_count": 82,
     "metadata": {},
     "output_type": "execute_result"
    }
   ],
   "source": [
    "d = my_dot_v2(a,b)\n",
    "d.get_shape()"
   ]
  },
  {
   "cell_type": "code",
   "execution_count": 63,
   "metadata": {},
   "outputs": [
    {
     "data": {
      "text/plain": [
       "478"
      ]
     },
     "execution_count": 63,
     "metadata": {},
     "output_type": "execute_result"
    }
   ],
   "source": [
    "np.arange(20,24).dot(np.array([4,5,6,7]))"
   ]
  },
  {
   "cell_type": "markdown",
   "metadata": {},
   "source": [
    "## 测试tensorflow的scan"
   ]
  },
  {
   "cell_type": "code",
   "execution_count": 4,
   "metadata": {
    "collapsed": true
   },
   "outputs": [
    {
     "name": "stdout",
     "output_type": "stream",
     "text": [
      "(3, 4)\nTensor(\"scan_1/while/TensorArrayReadV3:0\", shape=(3, 4), dtype=int32)\nTensor(\"scan_1/while/Identity_1:0\", shape=(3, 4), dtype=int32)\n"
     ]
    },
    {
     "name": "stdout",
     "output_type": "stream",
     "text": [
      "(?, 1)\n[ 27.   5.   7.]\n"
     ]
    }
   ],
   "source": [
    "sentence_ids = tf.Variable([5, 8, 1, 3, 0, 34, 8, 7, 3, 8])\n",
    "attentions = tf.Variable([5, 9, 1, 3, 0, 34, 9, 7, 3, 9],dtype=\"float32\")\n",
    "word_id = tf.Variable(8)\n",
    "word_ids = tf.Variable([8,5,7])\n",
    "aaa = tf.equal(sentence_ids, word_id)\n",
    "ccc = tf.where(aaa)\n",
    "qqq = tf.reduce_sum(tf.gather(attentions,ccc))\n",
    "\n",
    "\n",
    "def sum_prob_of_word(word_ix, sentence_ixs, sentence_attention_probs):\n",
    "    word_ixs_in_sentence = tf.where(tf.equal(sentence_ixs, word_ix))\n",
    "    return tf.reduce_sum(tf.gather(sentence_attention_probs, word_ixs_in_sentence))\n",
    "\n",
    "test_func = lambda x:sum_prob_of_word(x,sentence_ids,attentions)\n",
    "\n",
    "ppp = test_func(word_id)\n",
    "\n",
    "def sum_probs_single_sentence(prev,cur):\n",
    "    candidate_indices_i, sentence_ixs_t, sentence_attention_probs_t = cur\n",
    "    result = tf.scan(\n",
    "        fn=lambda prev,x: sum_prob_of_word(x, sentence_ixs_t, sentence_attention_probs_t),\n",
    "        elems=[candidate_indices_i],\n",
    "        initializer=tf.Variable(0.,dtype=\"float32\"))\n",
    "    return result\n",
    "\n",
    "zzz = sum_probs_single_sentence(None,[word_ids,sentence_ids,attentions])\n",
    "\n",
    "def func(prev, cur):\n",
    "    print(cur.get_shape())\n",
    "    print(cur)\n",
    "    print(prev)\n",
    "    return cur\n",
    "\n",
    "v = tf.Variable(np.arange(24).reshape(2, 3, 4))\n",
    "# print(v.get_shape())\n",
    "\n",
    "bbb = tf.scan(func, elems=v)\n",
    "with tf.Session() as sess:\n",
    "    sess.run(tf.global_variables_initializer())\n",
    "    print(ccc.get_shape())\n",
    "    print(sess.run(zzz))\n",
    "    # print(sess.run(bbb))"
   ]
  },
  {
   "cell_type": "code",
   "execution_count": 1,
   "metadata": {},
   "outputs": [
    {
     "name": "stdout",
     "output_type": "stream",
     "text": [
      "[[ 0.60000002  0.2         0.        ]\n [ 0.          0.          0.        ]\n [ 0.1         0.          0.1       ]]\n"
     ]
    }
   ],
   "source": [
    "import tensorflow as tf\n",
    "import numpy as np\n",
    "\n",
    "\n",
    "def sum_prob_of_word(word_ix, sentence_ixs, sentence_attention_probs):\n",
    "    word_ixs_in_sentence = tf.where(tf.equal(sentence_ixs, word_ix))\n",
    "    return tf.reduce_sum(tf.gather(sentence_attention_probs, word_ixs_in_sentence))\n",
    "\n",
    "def sum_probs_single_sentence(prev,cur):\n",
    "    candidate_indices_i, sentence_ixs_t, sentence_attention_probs_t = cur\n",
    "    result = tf.scan(\n",
    "        fn=lambda prev,x: sum_prob_of_word(x, sentence_ixs_t, sentence_attention_probs_t),\n",
    "        elems=[candidate_indices_i],\n",
    "        initializer=tf.constant(0.,dtype=\"float32\"))\n",
    "    return result\n",
    "\n",
    "def sum_probs_batch(candidate_indices_bt, sentence_ixs_bt, sentence_attention_probs_bt):\n",
    "    result = tf.scan(\n",
    "        fn=sum_probs_single_sentence,\n",
    "        elems=[candidate_indices_bt, sentence_ixs_bt, sentence_attention_probs_bt],\n",
    "        initializer=tf.Variable([1,2,3],dtype=\"float32\"))\n",
    "    return result\n",
    "\n",
    "candidate_idx = tf.Variable([\n",
    "    [16, 21, 8],\n",
    "    [13, 19, 26],\n",
    "    [23, 9, 23]\n",
    "])\n",
    "\n",
    "sentence_idx = tf.Variable([\n",
    "    [16, 21, 23, 16, 8, 9, 21],\n",
    "    [16, 21, 23, 16, 8, 9, 21],\n",
    "    [16, 21, 23, 16, 8, 9, 21],\n",
    "])\n",
    "\n",
    "attention_idx = tf.Variable([\n",
    "    [0.3, 0.2, 0.1, 0.3, 0, 0, 0],\n",
    "    [0.3, 0.2, 0.1, 0.3, 0, 0, 0],\n",
    "    [0.3, 0.2, 0.1, 0.3, 0, 0, 0]\n",
    "],dtype=\"float32\")\n",
    "\n",
    "o = sum_probs_batch(candidate_idx, sentence_idx, attention_idx)\n",
    "with tf.Session() as sess:\n",
    "    sess.run(tf.global_variables_initializer())\n",
    "    print(sess.run(o))"
   ]
  },
  {
   "cell_type": "code",
   "execution_count": 1,
   "metadata": {},
   "outputs": [
    {
     "name": "stderr",
     "output_type": "stream",
     "text": [
      "Using TensorFlow backend.\n"
     ]
    },
    {
     "data": {
      "text/plain": [
       "array([[ 1.,  0.,  0.,  0.,  0.,  0.,  0.],\n       [ 1.,  1.,  0.,  0.,  0.,  0.,  0.],\n       [ 1.,  1.,  1.,  0.,  0.,  0.,  0.],\n       [ 1.,  1.,  1.,  1.,  0.,  0.,  0.],\n       [ 1.,  1.,  1.,  1.,  1.,  0.,  0.]], dtype=float32)"
      ]
     },
     "execution_count": 1,
     "metadata": {},
     "output_type": "execute_result"
    }
   ],
   "source": [
    "import tensorflow as tf\n",
    "import keras.backend as K\n",
    "\n",
    "a = [1,2,3,4,5]\n",
    "K.eval(tf.sequence_mask(a,7,dtype=tf.float32))"
   ]
  },
  {
   "cell_type": "code",
   "execution_count": 2,
   "metadata": {},
   "outputs": [],
   "source": [
    "import numpy as np"
   ]
  },
  {
   "cell_type": "code",
   "execution_count": 1,
   "metadata": {},
   "outputs": [],
   "source": [
    "batch_size = 4\n",
    "A_size = 5"
   ]
  },
  {
   "cell_type": "markdown",
   "metadata": {},
   "source": [
    "### 测试获取dynamic_rnn输出的有效位"
   ]
  },
  {
   "cell_type": "code",
   "execution_count": 1,
   "metadata": {},
   "outputs": [],
   "source": [
    "import tensorflow as tf\n",
    "import numpy as np\n",
    "from tensorflow.contrib.rnn import LSTMCell, GRUCell, MultiRNNCell\n",
    "\n",
    "i = np.random.rand(1000)"
   ]
  },
  {
   "cell_type": "code",
   "execution_count": 2,
   "metadata": {},
   "outputs": [],
   "source": [
    "with tf.variable_scope('q_encoder'):\n",
    "    cell = MultiRNNCell(cells=[GRUCell(2)] * 1)\n",
    "    x = tf.placeholder(dtype=tf.float32, shape=(2, 5, 100), name=\"x\")\n",
    "    q_lens = tf.placeholder(dtype=tf.int32,shape=(2))\n",
    "    outputs, last_states = tf.nn.bidirectional_dynamic_rnn(cell_bw=cell,\n",
    "                                                           cell_fw=cell,\n",
    "                                                           dtype=\"float32\",\n",
    "                                                           sequence_length=q_lens,\n",
    "                                                           inputs=x,\n",
    "                                                           swap_memory=True)\n",
    "    q_enc = tf.gather_nd(outputs, tf.stack([tf.range(q_lens.get_shape()[0]), q_lens - 1], axis=1))\n",
    "    q_enc_c =  tf.concat(outputs,axis=-1)"
   ]
  },
  {
   "cell_type": "code",
   "execution_count": 3,
   "metadata": {
    "collapsed": false
   },
   "outputs": [
    {
     "name": "stdout",
     "output_type": "stream",
     "text": [
      "outputs:(array([[[ 0.0560709 , -0.10033438],\n        [ 0.07781161, -0.220449  ],\n        [ 0.06069176, -0.23297542],\n        [ 0.        ,  0.        ],\n        [ 0.        ,  0.        ]],\n\n       [[ 0.02716292, -0.05908116],\n        [-0.03233079, -0.02452423],\n        [ 0.        ,  0.        ],\n        [ 0.        ,  0.        ],\n        [ 0.        ,  0.        ]]], dtype=float32), array([[[ 0.08484475,  0.06869046],\n        [ 0.07913341,  0.17418024],\n        [ 0.11813057, -0.0282253 ],\n        [ 0.        ,  0.        ],\n        [ 0.        ,  0.        ]],\n\n       [[-0.12557939, -0.38799691],\n        [-0.09159085, -0.26809931],\n        [ 0.        ,  0.        ],\n        [ 0.        ,  0.        ],\n        [ 0.        ,  0.        ]]], dtype=float32))\nstates:((array([[ 0.06069176, -0.23297542],\n       [-0.03233079, -0.02452423]], dtype=float32),), (array([[ 0.08484475,  0.06869046],\n       [-0.12557939, -0.38799691]], dtype=float32),))\nq_enc:[[[ 0.          0.        ]\n  [ 0.          0.        ]\n  [ 0.          0.        ]\n  [ 0.          0.        ]\n  [ 0.          0.        ]]\n\n [[-0.12557939 -0.38799691]\n  [-0.09159085 -0.26809931]\n  [ 0.          0.        ]\n  [ 0.          0.        ]\n  [ 0.          0.        ]]]\nq_enc_c:[[[ 0.0560709  -0.10033438  0.08484475  0.06869046]\n  [ 0.07781161 -0.220449    0.07913341  0.17418024]\n  [ 0.06069176 -0.23297542  0.11813057 -0.0282253 ]\n  [ 0.          0.          0.          0.        ]\n  [ 0.          0.          0.          0.        ]]\n\n [[ 0.02716292 -0.05908116 -0.12557939 -0.38799691]\n  [-0.03233079 -0.02452423 -0.09159085 -0.26809931]\n  [ 0.          0.          0.          0.        ]\n  [ 0.          0.          0.          0.        ]\n  [ 0.          0.          0.          0.        ]]]\n"
     ]
    }
   ],
   "source": [
    "with tf.Session() as sess:\n",
    "    sess.run(tf.global_variables_initializer())\n",
    "    a, b, c, d = sess.run([outputs, last_states, q_enc, q_enc_c], feed_dict={\n",
    "        q_lens: (3, 2),\n",
    "        x: i.reshape(2, 5, 100)\n",
    "    })\n",
    "    print(\"outputs:{}\\nstates:{}\\nq_enc:{}\\nq_enc_c:{}\".format(a, b, c, d))"
   ]
  },
  {
   "cell_type": "markdown",
   "metadata": {},
   "source": [
    "### 测试参数初始化"
   ]
  },
  {
   "cell_type": "code",
   "execution_count": 3,
   "metadata": {},
   "outputs": [],
   "source": [
    "import tensorflow as tf\n",
    "import numpy as np\n",
    "from tensorflow.contrib.rnn import LSTMCell, MultiRNNCell, GRUCell"
   ]
  },
  {
   "cell_type": "code",
   "execution_count": 9,
   "metadata": {},
   "outputs": [
    {
     "name": "stdout",
     "output_type": "stream",
     "text": [
      "[[ 0.89980626  0.31822035  0.29847053]\n [-0.29329553  0.94766068 -0.12616226]\n [-0.3229962   0.02598153  0.94604361]]\n[[ 0.  0.  0.]\n [ 0.  0.  0.]\n [ 0.  0.  0.]]\n"
     ]
    }
   ],
   "source": [
    "from tensorflow import variable_scope, get_variable\n",
    "\n",
    "with variable_scope(\"cc\",initializer=tf.orthogonal_initializer()):\n",
    "    with variable_scope(\"ddd\"):\n",
    "        a = get_variable(\"weight\",shape=(3,3),dtype=tf.float32)\n",
    "\n",
    "with variable_scope(\"cccc\",initializer=tf.zeros_initializer()):\n",
    "    with variable_scope(\"ccc\"):\n",
    "        b = get_variable(\"weight\",shape=(3,3),dtype=tf.float32)\n",
    "\n",
    "with tf.Session() as sess:\n",
    "    sess.run(tf.global_variables_initializer())\n",
    "    print(sess.run(a))\n",
    "    print(sess.run(b))"
   ]
  },
  {
   "cell_type": "code",
   "execution_count": null,
   "metadata": {},
   "outputs": [],
   "source": [
    ""
   ]
  }
 ],
 "metadata": {
  "kernelspec": {
   "display_name": "Python 2",
   "language": "python",
   "name": "python2"
  },
  "language_info": {
   "codemirror_mode": {
    "name": "ipython",
    "version": 2.0
   },
   "file_extension": ".py",
   "mimetype": "text/x-python",
   "name": "python",
   "nbconvert_exporter": "python",
   "pygments_lexer": "ipython2",
   "version": "2.7.6"
  }
 },
 "nbformat": 4,
 "nbformat_minor": 0
}